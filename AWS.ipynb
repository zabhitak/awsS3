{
 "metadata": {
  "language_info": {
   "codemirror_mode": {
    "name": "ipython",
    "version": 3
   },
   "file_extension": ".py",
   "mimetype": "text/x-python",
   "name": "python",
   "nbconvert_exporter": "python",
   "pygments_lexer": "ipython3",
   "version": "3.7.4-final"
  },
  "orig_nbformat": 2,
  "kernelspec": {
   "name": "python3",
   "display_name": "Python 3.7.4 64-bit",
   "metadata": {
    "interpreter": {
     "hash": "79dda8d0f1e4b50032f0a11dadfc8f82d3b45fc2ce8df01535accf2b27d801bd"
    }
   }
  }
 },
 "nbformat": 4,
 "nbformat_minor": 2,
 "cells": [
  {
   "cell_type": "code",
   "execution_count": 1,
   "metadata": {},
   "outputs": [
    {
     "output_type": "stream",
     "name": "stdout",
     "text": [
      "Collecting boto3\n",
      "  Downloading boto3-1.16.59-py2.py3-none-any.whl (130 kB)\n",
      "Note: you may need to restart the kernel to use updated packages.Requirement already satisfied: jmespath<1.0.0,>=0.7.1 in c:\\users\\abhinav\\python37\\lib\\site-packages (from boto3) (0.10.0)\n",
      "Collecting botocore<1.20.0,>=1.19.59\n",
      "  Downloading botocore-1.19.59-py2.py3-none-any.whl (7.2 MB)\n",
      "Requirement already satisfied: python-dateutil<3.0.0,>=2.1 in c:\\users\\abhinav\\python37\\lib\\site-packages (from botocore<1.20.0,>=1.19.59->boto3) (2.8.1)\n",
      "Requirement already satisfied: jmespath<1.0.0,>=0.7.1 in c:\\users\\abhinav\\python37\\lib\\site-packages (from boto3) (0.10.0)\n",
      "Requirement already satisfied: urllib3<1.27,>=1.25.4 in c:\\users\\abhinav\\python37\\lib\\site-packages (from botocore<1.20.0,>=1.19.59->boto3) (1.25.10)\n",
      "Requirement already satisfied: six>=1.5 in c:\\users\\abhinav\\python37\\lib\\site-packages (from python-dateutil<3.0.0,>=2.1->botocore<1.20.0,>=1.19.59->boto3) (1.15.0)\n",
      "Collecting s3transfer<0.4.0,>=0.3.0\n",
      "  Downloading s3transfer-0.3.4-py2.py3-none-any.whl (69 kB)\n",
      "Installing collected packages: botocore, s3transfer, boto3\n",
      "  Attempting uninstall: botocore\n",
      "    Found existing installation: botocore 1.15.49\n",
      "\n",
      "    Uninstalling botocore-1.15.49:\n",
      "      Successfully uninstalled botocore-1.15.49\n",
      "Successfully installed boto3-1.16.59 botocore-1.19.59 s3transfer-0.3.4\n",
      "ERROR: pip's dependency resolver does not currently take into account all the packages that are installed. This behaviour is the source of the following dependency conflicts.\n",
      "awsebcli 3.18.1 requires botocore<1.16,>=1.15, but you have botocore 1.19.59 which is incompatible.\n",
      "awsebcli 3.18.1 requires python-dateutil<2.8.1,>=2.1, but you have python-dateutil 2.8.1 which is incompatible.\n",
      "awsebcli 3.18.1 requires requests<2.21,>=2.20.1, but you have requests 2.24.0 which is incompatible.\n",
      "awsebcli 3.18.1 requires six<1.12.0,>=1.11.0, but you have six 1.15.0 which is incompatible.\n",
      "awsebcli 3.18.1 requires urllib3<1.25,>=1.24.1, but you have urllib3 1.25.10 which is incompatible.\n",
      "WARNING: You are using pip version 20.3; however, version 20.3.4 is available.\n",
      "You should consider upgrading via the 'C:\\Users\\Abhinav\\Python37\\python.exe -m pip install --upgrade pip' command.\n"
     ]
    }
   ],
   "source": [
    "pip install boto3"
   ]
  },
  {
   "cell_type": "code",
   "execution_count": 6,
   "metadata": {},
   "outputs": [
    {
     "output_type": "stream",
     "name": "stdout",
     "text": [
      "Collecting s3fsNote: you may need to restart the kernel to use updated packages.\n",
      "ERROR: pip's dependency resolver does not currently take into account all the packages that are installed. This behaviour is the source of the following dependency conflicts.\n",
      "boto3 1.16.59 requires botocore<1.20.0,>=1.19.59, but you have botocore 1.19.52 which is incompatible.\n",
      "awsebcli 3.18.1 requires botocore<1.16,>=1.15, but you have botocore 1.19.52 which is incompatible.\n",
      "awsebcli 3.18.1 requires python-dateutil<2.8.1,>=2.1, but you have python-dateutil 2.8.1 which is incompatible.\n",
      "awsebcli 3.18.1 requires requests<2.21,>=2.20.1, but you have requests 2.24.0 which is incompatible.\n",
      "awsebcli 3.18.1 requires six<1.12.0,>=1.11.0, but you have six 1.15.0 which is incompatible.\n",
      "awsebcli 3.18.1 requires urllib3<1.25,>=1.24.1, but you have urllib3 1.25.10 which is incompatible.\n",
      "  Downloading s3fs-0.5.2-py3-none-any.whl (22 kB)\n",
      "Collecting aiobotocore>=1.0.1\n",
      "  Downloading aiobotocore-1.2.0.tar.gz (47 kB)\n",
      "Requirement already satisfied: wrapt>=1.10.10 in c:\\users\\abhinav\\appdata\\roaming\\python\\python37\\site-packages (from aiobotocore>=1.0.1->s3fs) (1.11.2)\n",
      "Collecting aiohttp>=3.3.1\n",
      "  Downloading aiohttp-3.7.3-cp37-cp37m-win_amd64.whl (629 kB)\n",
      "Requirement already satisfied: attrs>=17.3.0 in c:\\users\\abhinav\\python37\\lib\\site-packages (from aiohttp>=3.3.1->aiobotocore>=1.0.1->s3fs) (19.3.0)\n",
      "Requirement already satisfied: chardet<4.0,>=2.0 in c:\\users\\abhinav\\python37\\lib\\site-packages (from aiohttp>=3.3.1->aiobotocore>=1.0.1->s3fs) (3.0.4)\n",
      "Collecting aioitertools>=0.5.1\n",
      "  Downloading aioitertools-0.7.1-py3-none-any.whl (20 kB)\n",
      "Collecting async-timeout<4.0,>=3.0\n",
      "  Using cached async_timeout-3.0.1-py3-none-any.whl (8.2 kB)\n",
      "Collecting botocore<1.19.53,>=1.19.52\n",
      "  Downloading botocore-1.19.52-py2.py3-none-any.whl (7.2 MB)\n",
      "Requirement already satisfied: urllib3<1.27,>=1.25.4 in c:\\users\\abhinav\\python37\\lib\\site-packages (from botocore<1.19.53,>=1.19.52->aiobotocore>=1.0.1->s3fs) (1.25.10)\n",
      "Requirement already satisfied: python-dateutil<3.0.0,>=2.1 in c:\\users\\abhinav\\python37\\lib\\site-packages (from botocore<1.19.53,>=1.19.52->aiobotocore>=1.0.1->s3fs) (2.8.1)\n",
      "Requirement already satisfied: jmespath<1.0.0,>=0.7.1 in c:\\users\\abhinav\\python37\\lib\\site-packages (from botocore<1.19.53,>=1.19.52->aiobotocore>=1.0.1->s3fs) (0.10.0)\n",
      "\n",
      "WARNING: You are using pip version 20.3; however, version 20.3.4 is available.\n",
      "You should consider upgrading via the 'C:\\Users\\Abhinav\\Python37\\python.exe -m pip install --upgrade pip' command.\n",
      "Collecting fsspec>=0.8.0\n",
      "  Downloading fsspec-0.8.5-py3-none-any.whl (98 kB)\n",
      "Collecting multidict<7.0,>=4.5\n",
      "  Downloading multidict-5.1.0-cp37-cp37m-win_amd64.whl (48 kB)\n",
      "Requirement already satisfied: six>=1.5 in c:\\users\\abhinav\\python37\\lib\\site-packages (from python-dateutil<3.0.0,>=2.1->botocore<1.19.53,>=1.19.52->aiobotocore>=1.0.1->s3fs) (1.15.0)\n",
      "Collecting typing-extensions>=3.6.5\n",
      "  Downloading typing_extensions-3.7.4.3-py3-none-any.whl (22 kB)\n",
      "Collecting yarl<2.0,>=1.0\n",
      "  Downloading yarl-1.6.3-cp37-cp37m-win_amd64.whl (124 kB)\n",
      "Requirement already satisfied: idna>=2.0 in c:\\users\\abhinav\\python37\\lib\\site-packages (from yarl<2.0,>=1.0->aiohttp>=3.3.1->aiobotocore>=1.0.1->s3fs) (2.10)\n",
      "Building wheels for collected packages: aiobotocore\n",
      "  Building wheel for aiobotocore (setup.py): started\n",
      "  Building wheel for aiobotocore (setup.py): finished with status 'done'\n",
      "  Created wheel for aiobotocore: filename=aiobotocore-1.2.0-py3-none-any.whl size=45556 sha256=6c983795a9293f171979be1edef6fd399c707569c529c6e7dfa8c4faad115844\n",
      "  Stored in directory: c:\\users\\abhinav\\appdata\\local\\pip\\cache\\wheels\\1f\\11\\66\\dbc390589a0123e96902c40db1297194c7a11151acebb214bd\n",
      "Successfully built aiobotocore\n",
      "Installing collected packages: typing-extensions, multidict, yarl, async-timeout, botocore, aioitertools, aiohttp, fsspec, aiobotocore, s3fs\n",
      "  Attempting uninstall: botocore\n",
      "    Found existing installation: botocore 1.19.59\n",
      "    Uninstalling botocore-1.19.59:\n",
      "      Successfully uninstalled botocore-1.19.59\n",
      "Successfully installed aiobotocore-1.2.0 aiohttp-3.7.3 aioitertools-0.7.1 async-timeout-3.0.1 botocore-1.19.52 fsspec-0.8.5 multidict-5.1.0 s3fs-0.5.2 typing-extensions-3.7.4.3 yarl-1.6.3\n"
     ]
    }
   ],
   "source": [
    "pip install s3fs"
   ]
  },
  {
   "cell_type": "code",
   "execution_count": 3,
   "metadata": {},
   "outputs": [],
   "source": [
    "import boto3\n",
    "import pandas as pd"
   ]
  },
  {
   "cell_type": "code",
   "execution_count": 4,
   "metadata": {},
   "outputs": [],
   "source": [
    "#create a instance of s3 and put iam user access id and key\n",
    "s3 = boto3.resource(\n",
    "    service_name='s3',\n",
    "    region_name='ap-south-1',\n",
    "    aws_access_key_id='',\n",
    "    aws_secret_access_key=''\n",
    ")"
   ]
  },
  {
   "cell_type": "code",
   "execution_count": 5,
   "metadata": {},
   "outputs": [
    {
     "output_type": "stream",
     "name": "stdout",
     "text": [
      "zabhi\n"
     ]
    }
   ],
   "source": [
    "for bucket in s3.buckets.all():\n",
    "    print(bucket.name)"
   ]
  },
  {
   "cell_type": "code",
   "execution_count": null,
   "metadata": {},
   "outputs": [],
   "source": [
    "import os \n",
    "os.environ[\"AWS_DEFAULT_REGION\"] = ''\n",
    "os.environ[\"AWS_ACCESS_KEY_ID\"] = ''\n",
    "os.environ[\"AWS_SECRET_ACCESS_KEY\"] = ''"
   ]
  },
  {
   "cell_type": "code",
   "execution_count": 8,
   "metadata": {},
   "outputs": [],
   "source": [
    "foo = pd.DataFrame({'x':[1,2,3],'y':['a','b','c']})\n",
    "bar = pd.DataFrame({'x':[10,20,30],'y':['aa','ba','cc']})\n",
    "\n",
    "foo.to_csv('foo.csv')\n",
    "bar.to_csv('bar.csv')"
   ]
  },
  {
   "cell_type": "code",
   "execution_count": 16,
   "metadata": {},
   "outputs": [],
   "source": [
    "#upload file to csv\n",
    "s3.Bucket('zabhi').upload_file(Filename='foo.csv',Key='foo.csv')\n",
    "s3.Bucket('zabhi').upload_file(Filename='bar.csv',Key='bar.csv')"
   ]
  },
  {
   "cell_type": "code",
   "execution_count": 17,
   "metadata": {},
   "outputs": [
    {
     "output_type": "stream",
     "name": "stdout",
     "text": [
      "s3.ObjectSummary(bucket_name='zabhi', key='bar.csv')\ns3.ObjectSummary(bucket_name='zabhi', key='foo.csv')\n"
     ]
    }
   ],
   "source": [
    "for obj in s3.Bucket('zabhi').objects.all():\n",
    "    print(obj)"
   ]
  },
  {
   "cell_type": "code",
   "execution_count": 18,
   "metadata": {},
   "outputs": [],
   "source": [
    "#load file directly into python\n",
    "obj = s3.Bucket('zabhi').Object('foo.csv').get()\n",
    "foo = pd.read_csv(obj['Body'],index_col=0)"
   ]
  },
  {
   "cell_type": "code",
   "execution_count": 19,
   "metadata": {},
   "outputs": [
    {
     "output_type": "execute_result",
     "data": {
      "text/plain": [
       "   x  y\n",
       "0  1  a\n",
       "1  2  b\n",
       "2  3  c"
      ],
      "text/html": "<div>\n<style scoped>\n    .dataframe tbody tr th:only-of-type {\n        vertical-align: middle;\n    }\n\n    .dataframe tbody tr th {\n        vertical-align: top;\n    }\n\n    .dataframe thead th {\n        text-align: right;\n    }\n</style>\n<table border=\"1\" class=\"dataframe\">\n  <thead>\n    <tr style=\"text-align: right;\">\n      <th></th>\n      <th>x</th>\n      <th>y</th>\n    </tr>\n  </thead>\n  <tbody>\n    <tr>\n      <th>0</th>\n      <td>1</td>\n      <td>a</td>\n    </tr>\n    <tr>\n      <th>1</th>\n      <td>2</td>\n      <td>b</td>\n    </tr>\n    <tr>\n      <th>2</th>\n      <td>3</td>\n      <td>c</td>\n    </tr>\n  </tbody>\n</table>\n</div>"
     },
     "metadata": {},
     "execution_count": 19
    }
   ],
   "source": [
    "foo"
   ]
  },
  {
   "cell_type": "code",
   "execution_count": 20,
   "metadata": {},
   "outputs": [],
   "source": [
    "#Download file and read from disc\n",
    "s3.Bucket('zabhi').download_file(Key='foo.csv',Filename='foo3.csv')"
   ]
  },
  {
   "cell_type": "code",
   "execution_count": 22,
   "metadata": {},
   "outputs": [
    {
     "output_type": "execute_result",
     "data": {
      "text/plain": [
       "   x  y\n",
       "0  1  a\n",
       "1  2  b\n",
       "2  3  c"
      ],
      "text/html": "<div>\n<style scoped>\n    .dataframe tbody tr th:only-of-type {\n        vertical-align: middle;\n    }\n\n    .dataframe tbody tr th {\n        vertical-align: top;\n    }\n\n    .dataframe thead th {\n        text-align: right;\n    }\n</style>\n<table border=\"1\" class=\"dataframe\">\n  <thead>\n    <tr style=\"text-align: right;\">\n      <th></th>\n      <th>x</th>\n      <th>y</th>\n    </tr>\n  </thead>\n  <tbody>\n    <tr>\n      <th>0</th>\n      <td>1</td>\n      <td>a</td>\n    </tr>\n    <tr>\n      <th>1</th>\n      <td>2</td>\n      <td>b</td>\n    </tr>\n    <tr>\n      <th>2</th>\n      <td>3</td>\n      <td>c</td>\n    </tr>\n  </tbody>\n</table>\n</div>"
     },
     "metadata": {},
     "execution_count": 22
    }
   ],
   "source": [
    "pd.read_csv('foo3.csv',index_col=0)"
   ]
  },
  {
   "cell_type": "code",
   "execution_count": 25,
   "metadata": {},
   "outputs": [
    {
     "output_type": "execute_result",
     "data": {
      "text/plain": [
       "{'ResponseMetadata': {'RequestId': 'BA6F209241BA0AEE',\n",
       "  'HostId': 'iVMvbkx6JhyzOfvdn1YJGbMDkW3BOw5dljLDfxkYsWF8KrxySOQfmPL97nq8+mXyFXHcuj9wsgw=',\n",
       "  'HTTPStatusCode': 204,\n",
       "  'HTTPHeaders': {'x-amz-id-2': 'iVMvbkx6JhyzOfvdn1YJGbMDkW3BOw5dljLDfxkYsWF8KrxySOQfmPL97nq8+mXyFXHcuj9wsgw=',\n",
       "   'x-amz-request-id': 'BA6F209241BA0AEE',\n",
       "   'date': 'Sat, 23 Jan 2021 14:21:52 GMT',\n",
       "   'x-amz-version-id': 'fEQtQTPkQqJrWG3u9UffXuP3C6kDMuc5',\n",
       "   'x-amz-delete-marker': 'true',\n",
       "   'server': 'AmazonS3'},\n",
       "  'RetryAttempts': 0},\n",
       " 'DeleteMarker': True,\n",
       " 'VersionId': 'fEQtQTPkQqJrWG3u9UffXuP3C6kDMuc5'}"
      ]
     },
     "metadata": {},
     "execution_count": 25
    }
   ],
   "source": [
    "obj = s3.Object(\"zabhi\", \"foo.csv\")\n",
    "obj.delete()"
   ]
  },
  {
   "cell_type": "code",
   "execution_count": 23,
   "metadata": {},
   "outputs": [
    {
     "output_type": "stream",
     "text": [
      "\u001b[1;31mSignature:\u001b[0m \u001b[0ms3\u001b[0m\u001b[1;33m.\u001b[0m\u001b[0mObject\u001b[0m\u001b[1;33m(\u001b[0m\u001b[1;33m*\u001b[0m\u001b[0margs\u001b[0m\u001b[1;33m,\u001b[0m \u001b[1;33m**\u001b[0m\u001b[0mkwargs\u001b[0m\u001b[1;33m)\u001b[0m\u001b[1;33m\u001b[0m\u001b[1;33m\u001b[0m\u001b[0m\n",
      "\u001b[1;31mDocstring:\u001b[0m\n",
      "Creates a Object resource.::\n",
      "\n",
      "  object = s3.Object('bucket_name','key')\n",
      "\n",
      ":type bucket_name: string\n",
      ":param bucket_name: The Object's bucket_name identifier. This **must** be set.\n",
      ":type key: string\n",
      ":param key: The Object's key identifier. This **must** be set.\n",
      "\n",
      ":rtype: :py:class:`S3.Object`\n",
      ":returns: A Object resource\n",
      "\u001b[1;31mFile:\u001b[0m      c:\\users\\abhinav\\python37\\lib\\site-packages\\boto3\\resources\\factory.py\n",
      "\u001b[1;31mType:\u001b[0m      method\n"
     ],
     "name": "stdout"
    }
   ],
   "source": [
    "s3.Object?"
   ]
  }
 ]
}